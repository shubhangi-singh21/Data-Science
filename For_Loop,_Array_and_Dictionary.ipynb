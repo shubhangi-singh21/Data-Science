{
  "nbformat": 4,
  "nbformat_minor": 0,
  "metadata": {
    "colab": {
      "name": "For Loop, Array and Dictionary.ipynb",
      "provenance": [],
      "include_colab_link": true
    },
    "kernelspec": {
      "name": "python3",
      "display_name": "Python 3"
    }
  },
  "cells": [
    {
      "cell_type": "markdown",
      "metadata": {
        "id": "view-in-github",
        "colab_type": "text"
      },
      "source": [
        "<a href=\"https://colab.research.google.com/github/shubhangi-singh21/Data-Science/blob/master/For_Loop%2C_Array_and_Dictionary.ipynb\" target=\"_parent\"><img src=\"https://colab.research.google.com/assets/colab-badge.svg\" alt=\"Open In Colab\"/></a>"
      ]
    },
    {
      "cell_type": "markdown",
      "metadata": {
        "id": "xnF06gzpKEDE",
        "colab_type": "text"
      },
      "source": [
        "# For Loop"
      ]
    },
    {
      "cell_type": "markdown",
      "metadata": {
        "id": "wGudHOzuKQow",
        "colab_type": "text"
      },
      "source": [
        "A for loop is used for iterating over a sequence (that is either a list, a tuple, a dictionary, a set, or a string).\n",
        "\n",
        "This is less like the for keyword in other programming languages, and works more like an iterator method as found in other object-orientated programming languages.\n",
        "\n",
        "With the for loop we can execute a set of statements, once for each item in a list, tuple, set etc"
      ]
    },
    {
      "cell_type": "code",
      "metadata": {
        "id": "2saaKsYVOKX3",
        "colab_type": "code",
        "colab": {
          "base_uri": "https://localhost:8080/",
          "height": 69
        },
        "outputId": "a64226a6-611e-4213-816a-00cf16918b9e"
      },
      "source": [
        "for i in range(0, 6, 2):\n",
        "    print(i)\n"
      ],
      "execution_count": null,
      "outputs": [
        {
          "output_type": "stream",
          "text": [
            "0\n",
            "2\n",
            "4\n"
          ],
          "name": "stdout"
        }
      ]
    },
    {
      "cell_type": "code",
      "metadata": {
        "id": "XRYoamr8KP74",
        "colab_type": "code",
        "colab": {
          "base_uri": "https://localhost:8080/",
          "height": 69
        },
        "outputId": "3ac8d91a-0785-4359-e379-e9841197f531"
      },
      "source": [
        "fruits = [\"apple\", \"banana\", \"cherry\"]\n",
        "for x in fruits:\n",
        "  print(x)"
      ],
      "execution_count": null,
      "outputs": [
        {
          "output_type": "stream",
          "text": [
            "apple\n",
            "banana\n",
            "cherry\n"
          ],
          "name": "stdout"
        }
      ]
    },
    {
      "cell_type": "markdown",
      "metadata": {
        "id": "dV9QS3MnKfzC",
        "colab_type": "text"
      },
      "source": [
        "Even strings are iterable objects, they contain a sequence of characters:"
      ]
    },
    {
      "cell_type": "code",
      "metadata": {
        "id": "vSDrqaCLKb2C",
        "colab_type": "code",
        "colab": {
          "base_uri": "https://localhost:8080/",
          "height": 121
        },
        "outputId": "80cd6cad-3b48-4c9b-d6d9-a6a90a58af91"
      },
      "source": [
        "for x in \"banana\":\n",
        "  print(x)"
      ],
      "execution_count": null,
      "outputs": [
        {
          "output_type": "stream",
          "text": [
            "b\n",
            "a\n",
            "n\n",
            "a\n",
            "n\n",
            "a\n"
          ],
          "name": "stdout"
        }
      ]
    },
    {
      "cell_type": "markdown",
      "metadata": {
        "id": "dBXFQNJhKpTD",
        "colab_type": "text"
      },
      "source": [
        "Resource : https://www.w3schools.com/python/python_for_loops.asp"
      ]
    },
    {
      "cell_type": "markdown",
      "metadata": {
        "id": "e-3_eWXtKBUR",
        "colab_type": "text"
      },
      "source": [
        "# Array"
      ]
    },
    {
      "cell_type": "markdown",
      "metadata": {
        "id": "rHj5hDBoCITR",
        "colab_type": "text"
      },
      "source": [
        "An array is a special variable, which can hold more than one value at a time."
      ]
    },
    {
      "cell_type": "code",
      "metadata": {
        "id": "wTM-VUAIDkDj",
        "colab_type": "code",
        "colab": {}
      },
      "source": [
        "from numpy import array"
      ],
      "execution_count": null,
      "outputs": []
    },
    {
      "cell_type": "code",
      "metadata": {
        "id": "wWl6PLYpB7Zn",
        "colab_type": "code",
        "colab": {}
      },
      "source": [
        "num = array([1, 2, 3])"
      ],
      "execution_count": null,
      "outputs": []
    },
    {
      "cell_type": "code",
      "metadata": {
        "id": "LJLAfXrzPQmT",
        "colab_type": "code",
        "colab": {
          "base_uri": "https://localhost:8080/",
          "height": 34
        },
        "outputId": "49791659-8e4d-4283-c86c-d9079a46e079"
      },
      "source": [
        "num"
      ],
      "execution_count": null,
      "outputs": [
        {
          "output_type": "execute_result",
          "data": {
            "text/plain": [
              "array([1, 2, 3])"
            ]
          },
          "metadata": {
            "tags": []
          },
          "execution_count": 12
        }
      ]
    },
    {
      "cell_type": "markdown",
      "metadata": {
        "id": "kIEbyz9IDrWM",
        "colab_type": "text"
      },
      "source": [
        "An array can hold many values under a single name, and you can access the values by referring to an index number."
      ]
    },
    {
      "cell_type": "code",
      "metadata": {
        "id": "Xh0aGzGwCTak",
        "colab_type": "code",
        "colab": {
          "base_uri": "https://localhost:8080/",
          "height": 34
        },
        "outputId": "1a3914e8-0725-48af-836f-d24bcafb9645"
      },
      "source": [
        "print(num[0])"
      ],
      "execution_count": null,
      "outputs": [
        {
          "output_type": "stream",
          "text": [
            "1\n"
          ],
          "name": "stdout"
        }
      ]
    },
    {
      "cell_type": "markdown",
      "metadata": {
        "id": "243TxpTiEusr",
        "colab_type": "text"
      },
      "source": [
        "So how are arrays different from lists?"
      ]
    },
    {
      "cell_type": "code",
      "metadata": {
        "id": "9TsTQAzJDwyJ",
        "colab_type": "code",
        "colab": {
          "base_uri": "https://localhost:8080/",
          "height": 34
        },
        "outputId": "12f33d67-1406-45d7-c8c7-a4a75bfaf6c7"
      },
      "source": [
        "print(num/3)"
      ],
      "execution_count": null,
      "outputs": [
        {
          "output_type": "stream",
          "text": [
            "[0.33333333 0.66666667 1.        ]\n"
          ],
          "name": "stdout"
        }
      ]
    },
    {
      "cell_type": "code",
      "metadata": {
        "id": "mayP78IZE5L9",
        "colab_type": "code",
        "colab": {
          "base_uri": "https://localhost:8080/",
          "height": 218
        },
        "outputId": "fa84f3b3-6333-4f9a-995a-46195b61147a"
      },
      "source": [
        "num_list = [1, 2, 3]\n",
        "print(num_list)\n",
        "print(num_list/3)"
      ],
      "execution_count": null,
      "outputs": [
        {
          "output_type": "stream",
          "text": [
            "[1, 2, 3]\n"
          ],
          "name": "stdout"
        },
        {
          "output_type": "error",
          "ename": "TypeError",
          "evalue": "ignored",
          "traceback": [
            "\u001b[0;31m---------------------------------------------------------------------------\u001b[0m",
            "\u001b[0;31mTypeError\u001b[0m                                 Traceback (most recent call last)",
            "\u001b[0;32m<ipython-input-10-1973d685ee88>\u001b[0m in \u001b[0;36m<module>\u001b[0;34m()\u001b[0m\n\u001b[1;32m      1\u001b[0m \u001b[0mnum_list\u001b[0m \u001b[0;34m=\u001b[0m \u001b[0;34m[\u001b[0m\u001b[0;36m1\u001b[0m\u001b[0;34m,\u001b[0m \u001b[0;36m2\u001b[0m\u001b[0;34m,\u001b[0m \u001b[0;36m3\u001b[0m\u001b[0;34m]\u001b[0m\u001b[0;34m\u001b[0m\u001b[0;34m\u001b[0m\u001b[0m\n\u001b[1;32m      2\u001b[0m \u001b[0mprint\u001b[0m\u001b[0;34m(\u001b[0m\u001b[0mnum_list\u001b[0m\u001b[0;34m)\u001b[0m\u001b[0;34m\u001b[0m\u001b[0;34m\u001b[0m\u001b[0m\n\u001b[0;32m----> 3\u001b[0;31m \u001b[0mprint\u001b[0m\u001b[0;34m(\u001b[0m\u001b[0mnum_list\u001b[0m\u001b[0;34m/\u001b[0m\u001b[0;36m3\u001b[0m\u001b[0;34m)\u001b[0m\u001b[0;34m\u001b[0m\u001b[0;34m\u001b[0m\u001b[0m\n\u001b[0m",
            "\u001b[0;31mTypeError\u001b[0m: unsupported operand type(s) for /: 'list' and 'int'"
          ]
        }
      ]
    },
    {
      "cell_type": "code",
      "metadata": {
        "id": "mh-ClX2UPwUK",
        "colab_type": "code",
        "colab": {}
      },
      "source": [
        "for i in range(len(num_list)):\n",
        "  num_list[i] = num_list[i]/3"
      ],
      "execution_count": null,
      "outputs": []
    },
    {
      "cell_type": "code",
      "metadata": {
        "id": "brC1Tbo8P-LC",
        "colab_type": "code",
        "colab": {
          "base_uri": "https://localhost:8080/",
          "height": 34
        },
        "outputId": "f7e1f400-f215-4b72-be9f-090d96ba90f9"
      },
      "source": [
        "num_list"
      ],
      "execution_count": null,
      "outputs": [
        {
          "output_type": "execute_result",
          "data": {
            "text/plain": [
              "[0.3333333333333333, 0.6666666666666666, 1.0]"
            ]
          },
          "metadata": {
            "tags": []
          },
          "execution_count": 13
        }
      ]
    },
    {
      "cell_type": "code",
      "metadata": {
        "id": "XR3M8oJlQiPg",
        "colab_type": "code",
        "colab": {}
      },
      "source": [
        "n_arr = array([1, 2, 3])\n",
        "n_list = [1, 2, 3]"
      ],
      "execution_count": null,
      "outputs": []
    },
    {
      "cell_type": "code",
      "metadata": {
        "id": "3eMiCS_iQr7x",
        "colab_type": "code",
        "colab": {
          "base_uri": "https://localhost:8080/",
          "height": 34
        },
        "outputId": "dfd23eeb-8214-4e13-e21f-443417d86707"
      },
      "source": [
        "n_arr/3"
      ],
      "execution_count": null,
      "outputs": [
        {
          "output_type": "execute_result",
          "data": {
            "text/plain": [
              "array([0.33333333, 0.66666667, 1.        ])"
            ]
          },
          "metadata": {
            "tags": []
          },
          "execution_count": 15
        }
      ]
    },
    {
      "cell_type": "code",
      "metadata": {
        "id": "wzWusQiqQ_sH",
        "colab_type": "code",
        "colab": {
          "base_uri": "https://localhost:8080/",
          "height": 34
        },
        "outputId": "7f9e6887-9b2d-470a-eb99-2f1e9008a089"
      },
      "source": [
        "n_arr"
      ],
      "execution_count": null,
      "outputs": [
        {
          "output_type": "execute_result",
          "data": {
            "text/plain": [
              "array([1, 2, 3])"
            ]
          },
          "metadata": {
            "tags": []
          },
          "execution_count": 18
        }
      ]
    },
    {
      "cell_type": "code",
      "metadata": {
        "id": "mcuT0xEtQwmT",
        "colab_type": "code",
        "colab": {
          "base_uri": "https://localhost:8080/",
          "height": 166
        },
        "outputId": "4da3cdea-8492-4e58-bc50-d5434aebef2d"
      },
      "source": [
        "n_list/3"
      ],
      "execution_count": null,
      "outputs": [
        {
          "output_type": "error",
          "ename": "TypeError",
          "evalue": "ignored",
          "traceback": [
            "\u001b[0;31m---------------------------------------------------------------------------\u001b[0m",
            "\u001b[0;31mTypeError\u001b[0m                                 Traceback (most recent call last)",
            "\u001b[0;32m<ipython-input-16-9c33e45114a8>\u001b[0m in \u001b[0;36m<module>\u001b[0;34m()\u001b[0m\n\u001b[0;32m----> 1\u001b[0;31m \u001b[0mn_list\u001b[0m\u001b[0;34m/\u001b[0m\u001b[0;36m3\u001b[0m\u001b[0;34m\u001b[0m\u001b[0;34m\u001b[0m\u001b[0m\n\u001b[0m",
            "\u001b[0;31mTypeError\u001b[0m: unsupported operand type(s) for /: 'list' and 'int'"
          ]
        }
      ]
    },
    {
      "cell_type": "code",
      "metadata": {
        "id": "TAekC7LeQ11R",
        "colab_type": "code",
        "colab": {
          "base_uri": "https://localhost:8080/",
          "height": 34
        },
        "outputId": "c026fac7-1a8d-44aa-ab1c-3fe571cdff85"
      },
      "source": [
        "for i in range(len(n_list)):\n",
        "  n_list[i] = n_list[i]/3\n",
        "\n",
        "print(n_list)"
      ],
      "execution_count": null,
      "outputs": [
        {
          "output_type": "stream",
          "text": [
            "[0.3333333333333333, 0.6666666666666666, 1.0]\n"
          ],
          "name": "stdout"
        }
      ]
    },
    {
      "cell_type": "markdown",
      "metadata": {
        "id": "2Jtg5fO8FEvp",
        "colab_type": "text"
      },
      "source": [
        "Arrays can handle mathematical operations but lists cannot."
      ]
    },
    {
      "cell_type": "markdown",
      "metadata": {
        "id": "cE2JY_IiGDWi",
        "colab_type": "text"
      },
      "source": [
        "Resource : https://docs.scipy.org/doc/numpy/reference/generated/numpy.array.html\n",
        "\n",
        "https://medium.com/backticks-tildes/list-vs-array-python-data-type-40ac4f294551"
      ]
    },
    {
      "cell_type": "markdown",
      "metadata": {
        "id": "j5K0GdHsHtsR",
        "colab_type": "text"
      },
      "source": [
        "# Dictionary"
      ]
    },
    {
      "cell_type": "markdown",
      "metadata": {
        "id": "lutduG0FIFbJ",
        "colab_type": "text"
      },
      "source": [
        "Dictionary in Python is an unordered collection of data values, used to store data values like a map, which unlike other Data Types that hold only single value as an element, Dictionary holds key:value pair. Key value is provided in the dictionary to make it more optimized. Each key-value pair in a Dictionary is separated by a colon :, whereas each key is separated by a ‘comma’.\n",
        "\n",
        "A Dictionary in Python works similar to the Dictionary in a real world. Keys of a Dictionary must be unique and of immutable data type such as Strings, Integers and tuples, but the key-values can be repeated and be of any type."
      ]
    },
    {
      "cell_type": "code",
      "metadata": {
        "id": "liNdEDy1D8r-",
        "colab_type": "code",
        "colab": {
          "base_uri": "https://localhost:8080/",
          "height": 34
        },
        "outputId": "7ea5a31e-f98b-451c-83ea-098392092215"
      },
      "source": [
        "thisdict =\t{\n",
        "  \"brand\": \"Ford\",\n",
        "  \"model\": \"Mustang\",\n",
        "  \"year\": 1964,\n",
        "  \"max speed\": 45.65\n",
        "}\n",
        "print(thisdict)"
      ],
      "execution_count": null,
      "outputs": [
        {
          "output_type": "stream",
          "text": [
            "{'brand': 'Ford', 'model': 'Mustang', 'year': 1964, 'max speed': 45.65}\n"
          ],
          "name": "stdout"
        }
      ]
    },
    {
      "cell_type": "markdown",
      "metadata": {
        "id": "ATzK2F-zITuH",
        "colab_type": "text"
      },
      "source": [
        "You can access the items of a dictionary by referring to its key name, inside square brackets:"
      ]
    },
    {
      "cell_type": "code",
      "metadata": {
        "id": "K3Ezpg4BIOhs",
        "colab_type": "code",
        "colab": {
          "base_uri": "https://localhost:8080/",
          "height": 34
        },
        "outputId": "c9e4e3fd-3ebe-4aef-eae6-0315b52f394a"
      },
      "source": [
        "x = thisdict[\"brand\"]\n",
        "print(x)"
      ],
      "execution_count": null,
      "outputs": [
        {
          "output_type": "stream",
          "text": [
            "Ford\n"
          ],
          "name": "stdout"
        }
      ]
    },
    {
      "cell_type": "markdown",
      "metadata": {
        "id": "baMPBI-eIg3p",
        "colab_type": "text"
      },
      "source": [
        "You can change the value of a specific item by referring to its key name:"
      ]
    },
    {
      "cell_type": "code",
      "metadata": {
        "id": "zj9ir2ddIYWp",
        "colab_type": "code",
        "colab": {
          "base_uri": "https://localhost:8080/",
          "height": 52
        },
        "outputId": "df17dcb5-ac12-4228-e94d-5ae12cb31d57"
      },
      "source": [
        "thisdict =\t{\n",
        "  \"brand\": \"Ford\",\n",
        "  \"model\": \"Mustang\",\n",
        "  \"year\": 1964\n",
        "}\n",
        "\n",
        "print(thisdict)\n",
        "\n",
        "thisdict[\"year\"] = 2018\n",
        "\n",
        "print(thisdict)"
      ],
      "execution_count": null,
      "outputs": [
        {
          "output_type": "stream",
          "text": [
            "{'brand': 'Ford', 'model': 'Mustang', 'year': 1964}\n",
            "{'brand': 'Ford', 'model': 'Mustang', 'year': 2018}\n"
          ],
          "name": "stdout"
        }
      ]
    },
    {
      "cell_type": "code",
      "metadata": {
        "id": "JRdJGmenSq-3",
        "colab_type": "code",
        "colab": {}
      },
      "source": [
        "d = {\"St 1\":{ \"M1\":45, \"M2\":45, \"M3\":45},\n",
        "     \"St 2\":{ \"M1\":45, \"M2\":45, \"M3\":45},\n",
        "     \"St 3\":{ \"M1\":45, \"M2\":45, \"M3\":45}  \n",
        "}}"
      ],
      "execution_count": null,
      "outputs": []
    },
    {
      "cell_type": "markdown",
      "metadata": {
        "id": "YgXemw4ZI2N6",
        "colab_type": "text"
      },
      "source": [
        "You cannot copy a dictionary simply by typing dict2 = dict1, because: dict2 will only be a reference to dict1, and changes made in dict1 will automatically also be made in dict2.\n",
        "\n",
        "There are ways to make a copy, one way is to use the built-in Dictionary method copy()."
      ]
    },
    {
      "cell_type": "code",
      "metadata": {
        "id": "0-GS6YHQIxIh",
        "colab_type": "code",
        "colab": {
          "base_uri": "https://localhost:8080/",
          "height": 34
        },
        "outputId": "181e6bf9-12b7-42dc-a601-57674da1de7d"
      },
      "source": [
        "mydict = thisdict.copy()\n",
        "print(mydict)"
      ],
      "execution_count": null,
      "outputs": [
        {
          "output_type": "stream",
          "text": [
            "{'brand': 'Ford', 'model': 'Mustang', 'year': 2018}\n"
          ],
          "name": "stdout"
        }
      ]
    },
    {
      "cell_type": "markdown",
      "metadata": {
        "id": "M5LNXeUiJH6-",
        "colab_type": "text"
      },
      "source": [
        "You can get all the keys or all the values of a dictionary using the methods keys() and values()."
      ]
    },
    {
      "cell_type": "code",
      "metadata": {
        "id": "75NbEwIDI66B",
        "colab_type": "code",
        "colab": {
          "base_uri": "https://localhost:8080/",
          "height": 52
        },
        "outputId": "9b6e46eb-7b74-463a-9365-0d2796c16e10"
      },
      "source": [
        "print(mydict.keys())\n",
        "print(mydict.values())"
      ],
      "execution_count": null,
      "outputs": [
        {
          "output_type": "stream",
          "text": [
            "dict_keys(['brand', 'model', 'year'])\n",
            "dict_values(['Ford', 'Mustang', 2018])\n"
          ],
          "name": "stdout"
        }
      ]
    },
    {
      "cell_type": "markdown",
      "metadata": {
        "id": "zdZdFyqIK4bT",
        "colab_type": "text"
      },
      "source": [
        "You can loop through a dictionary by using a for loop.\n",
        "\n",
        "When looping through a dictionary, the return value are the keys of the dictionary, but there are methods to return the values as well."
      ]
    },
    {
      "cell_type": "code",
      "metadata": {
        "id": "g2ircPanK6ia",
        "colab_type": "code",
        "colab": {
          "base_uri": "https://localhost:8080/",
          "height": 69
        },
        "outputId": "001dcf82-fc40-40a0-b1a6-1f1266d8e41f"
      },
      "source": [
        "# Print all key names in the dictionary, one by one:\n",
        "\n",
        "for x in thisdict:\n",
        "  print(x) "
      ],
      "execution_count": null,
      "outputs": [
        {
          "output_type": "stream",
          "text": [
            "brand\n",
            "model\n",
            "year\n"
          ],
          "name": "stdout"
        }
      ]
    },
    {
      "cell_type": "code",
      "metadata": {
        "id": "IBwCamd0LCyj",
        "colab_type": "code",
        "colab": {
          "base_uri": "https://localhost:8080/",
          "height": 69
        },
        "outputId": "d9788368-2d57-4e19-ad5f-e38b3b64dec2"
      },
      "source": [
        "# Print all values in the dictionary, one by one:\n",
        "\n",
        "for x in thisdict:\n",
        "  print(thisdict[x]) "
      ],
      "execution_count": null,
      "outputs": [
        {
          "output_type": "stream",
          "text": [
            "Ford\n",
            "Mustang\n",
            "2018\n"
          ],
          "name": "stdout"
        }
      ]
    },
    {
      "cell_type": "code",
      "metadata": {
        "id": "_A_z9cr5LTSz",
        "colab_type": "code",
        "colab": {
          "base_uri": "https://localhost:8080/",
          "height": 69
        },
        "outputId": "a3c7d992-3288-43b6-e621-a45e245a476f"
      },
      "source": [
        "# Loop through both keys and values, by using the items() function:\n",
        "\n",
        "for x, y in thisdict.items():\n",
        "  print(x, y) "
      ],
      "execution_count": null,
      "outputs": [
        {
          "output_type": "stream",
          "text": [
            "brand Ford\n",
            "model Mustang\n",
            "year 2018\n"
          ],
          "name": "stdout"
        }
      ]
    },
    {
      "cell_type": "code",
      "metadata": {
        "id": "Lgm2Ij2wUdby",
        "colab_type": "code",
        "colab": {
          "base_uri": "https://localhost:8080/",
          "height": 34
        },
        "outputId": "9fde41e8-6fa7-4f6d-fb5a-4c9ef5509a92"
      },
      "source": [
        "thisdict"
      ],
      "execution_count": null,
      "outputs": [
        {
          "output_type": "execute_result",
          "data": {
            "text/plain": [
              "{'brand': 'Ford', 'model': 'Mustang', 'year': 2018}"
            ]
          },
          "metadata": {
            "tags": []
          },
          "execution_count": 25
        }
      ]
    },
    {
      "cell_type": "code",
      "metadata": {
        "id": "w5nxqJ38Uf0s",
        "colab_type": "code",
        "colab": {}
      },
      "source": [
        "thisdict[\"speed\"] = 67"
      ],
      "execution_count": null,
      "outputs": []
    },
    {
      "cell_type": "code",
      "metadata": {
        "id": "7wn_pjgZUoZE",
        "colab_type": "code",
        "colab": {}
      },
      "source": [
        "thisdict.update({\"speed\":67})"
      ],
      "execution_count": null,
      "outputs": []
    },
    {
      "cell_type": "code",
      "metadata": {
        "id": "zY6yjZm7Uke3",
        "colab_type": "code",
        "colab": {
          "base_uri": "https://localhost:8080/",
          "height": 34
        },
        "outputId": "5aa601bf-563f-4960-eeab-72849075a2a2"
      },
      "source": [
        "thisdict"
      ],
      "execution_count": null,
      "outputs": [
        {
          "output_type": "execute_result",
          "data": {
            "text/plain": [
              "{'brand': 'Ford', 'model': 'Mustang', 'speed': 67, 'year': 2018}"
            ]
          },
          "metadata": {
            "tags": []
          },
          "execution_count": 29
        }
      ]
    },
    {
      "cell_type": "markdown",
      "metadata": {
        "id": "s2s084-PJc5i",
        "colab_type": "text"
      },
      "source": [
        "Resource : https://www.w3schools.com/python/python_dictionaries.asp"
      ]
    }
  ]
}