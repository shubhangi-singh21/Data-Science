{
  "nbformat": 4,
  "nbformat_minor": 0,
  "metadata": {
    "colab": {
      "name": "python_basics3.ipynb",
      "provenance": [],
      "private_outputs": true,
      "collapsed_sections": [],
      "include_colab_link": true
    },
    "kernelspec": {
      "name": "python3",
      "display_name": "Python 3"
    }
  },
  "cells": [
    {
      "cell_type": "markdown",
      "metadata": {
        "id": "view-in-github",
        "colab_type": "text"
      },
      "source": [
        "<a href=\"https://colab.research.google.com/github/shubhangi-singh21/Data-Science/blob/master/While_Loop_and_List_Operations.ipynb\" target=\"_parent\"><img src=\"https://colab.research.google.com/assets/colab-badge.svg\" alt=\"Open In Colab\"/></a>"
      ]
    },
    {
      "cell_type": "markdown",
      "metadata": {
        "id": "APcakywObqrx",
        "colab_type": "toc"
      },
      "source": [
        ">[While loop](#scrollTo=USfoRghqbUzS)\n",
        "\n",
        ">[Lists](#scrollTo=TRWsKjBpbadi)\n",
        "\n",
        ">[List operations](#scrollTo=6XRurKTNbgpY)\n",
        "\n",
        ">[List slicing](#scrollTo=AR3o5PZ9bmpg)\n",
        "\n"
      ]
    },
    {
      "cell_type": "markdown",
      "metadata": {
        "id": "USfoRghqbUzS",
        "colab_type": "text"
      },
      "source": [
        "# While loop"
      ]
    },
    {
      "cell_type": "markdown",
      "metadata": {
        "id": "ayZyDERWMuX7",
        "colab_type": "text"
      },
      "source": [
        "The if statement is used to run some statements if some condition is True. However if statement only run once.\n",
        "\n",
        "The while **loop** is used to run a group of statements as long as some condition is True. When the condition becomes False, the loop will stop and the control will resume from the line after the loop.\n",
        "\n",
        "The syntax is similar to if:\n",
        "\n",
        "\n",
        "```\n",
        "while condition:\n",
        "  statements\n",
        "```\n",
        "\n",
        "In the code below, we use a while loop to print all the numbers from 1 to 10. The loop will run as long as **i <= 10** is True. We are icreasing i by 1 in the body of the loop, so that i eventually becomes 10"
      ]
    },
    {
      "cell_type": "code",
      "metadata": {
        "id": "kLCXsCsEJT4-",
        "colab_type": "code",
        "colab": {}
      },
      "source": [
        "i = 1\n",
        "while i <= 10:\n",
        "  print(i)\n",
        "  i += 1\n",
        "print(\"Outside while\")"
      ],
      "execution_count": null,
      "outputs": []
    },
    {
      "cell_type": "markdown",
      "metadata": {
        "id": "pLBZPJT8N8eh",
        "colab_type": "text"
      },
      "source": [
        "If the condition is never False, the loop will never stop. So make sure to be careful when writing a condition. It is very common to use a variable to run a loop upto a certain value, but forgetting to update the variable in the loop body, resulting in an infinite loop.\n",
        "\n",
        "Don't run this code below, unless you love to get stuck in a loop"
      ]
    },
    {
      "cell_type": "code",
      "metadata": {
        "id": "pRkDwa61JeXq",
        "colab_type": "code",
        "colab": {}
      },
      "source": [
        "while True:\n",
        "  print(\"Yo\")"
      ],
      "execution_count": null,
      "outputs": []
    },
    {
      "cell_type": "markdown",
      "metadata": {
        "id": "RQ2cg3aBOyRh",
        "colab_type": "text"
      },
      "source": [
        "The break statement is used to break out of a loop prematurely. As soon as a break is encountered, the loop is stopped and the control jumps out of the loop."
      ]
    },
    {
      "cell_type": "code",
      "metadata": {
        "id": "kO7wTD7AJhc2",
        "colab_type": "code",
        "colab": {}
      },
      "source": [
        "i = 1\n",
        "while i <= 10:\n",
        "  print(i)\n",
        "  if i == 8:\n",
        "    break\n",
        "  i += 1\n",
        "print(\"Out of the loop\")"
      ],
      "execution_count": null,
      "outputs": []
    },
    {
      "cell_type": "markdown",
      "metadata": {
        "id": "ArU5x5iRPHxV",
        "colab_type": "text"
      },
      "source": [
        "The continue statement is used to skip the rest of the loop for one iteration. It does not break the loop.  It simpy moves on to the top of the loop.\n",
        "\n",
        "**Note in the code below, we have put the i += 1 line at the top of the loop, unike previous codes. Can you guess what would happen if that line was at the end of the loop, like the previous ones?**"
      ]
    },
    {
      "cell_type": "code",
      "metadata": {
        "id": "xXqt8uNxJrAH",
        "colab_type": "code",
        "colab": {}
      },
      "source": [
        "i = 0\n",
        "while True:\n",
        "  i += 1\n",
        "  if i == 2:\n",
        "    print(\"Skipping 2\")\n",
        "    continue\n",
        "  if i == 8:\n",
        "    print(\"Breaking\")\n",
        "    break\n",
        "  print(i)\n",
        "print(\"Out of the loop\")"
      ],
      "execution_count": null,
      "outputs": []
    },
    {
      "cell_type": "markdown",
      "metadata": {
        "id": "TRWsKjBpbadi",
        "colab_type": "text"
      },
      "source": [
        "# Lists"
      ]
    },
    {
      "cell_type": "markdown",
      "metadata": {
        "id": "ze3cLSkBP2JX",
        "colab_type": "text"
      },
      "source": [
        "Lists are another datatype which is used extensively. Lists store a group of objects. If we have to store 100 values which are smehow logically related, instead of storing them in 100 different variables, we can store them in a list.\n",
        "\n",
        "Lists are analogous to arrays in other languages. Unlike C or C++, lists are not fixed size.\n",
        "\n",
        "Lists are indexed, which means you can access the stored values using its index (position). The notation is similar to arrays, we write the index inside square brackets. To create a list, we use square brackets, and write the initial values separated with comma.\n",
        "\n",
        "Lists are 0-indexed, so the index of the first element is 0, and not 1"
      ]
    },
    {
      "cell_type": "code",
      "metadata": {
        "id": "HCHZr6GAJ-Gs",
        "colab_type": "code",
        "colab": {}
      },
      "source": [
        "l = [1,2,3,4,5]\n",
        "print(l)\n",
        "print(l[0])\n",
        "print(l[1])\n",
        "print(l[2])"
      ],
      "execution_count": null,
      "outputs": []
    },
    {
      "cell_type": "markdown",
      "metadata": {
        "id": "uvazgQgoQysZ",
        "colab_type": "text"
      },
      "source": [
        "If no initial value is passed, an empty list is created"
      ]
    },
    {
      "cell_type": "code",
      "metadata": {
        "id": "QBPfoxhiKF5L",
        "colab_type": "code",
        "colab": {}
      },
      "source": [
        "empty = []\n",
        "print(empty)"
      ],
      "execution_count": null,
      "outputs": []
    },
    {
      "cell_type": "markdown",
      "metadata": {
        "id": "cGWUFWFpQ6Ok",
        "colab_type": "text"
      },
      "source": [
        "Unlike C or C++, lists in Python can store values of any datatype, even list. Although, practically, we store similar datatypes."
      ]
    },
    {
      "cell_type": "code",
      "metadata": {
        "id": "FxrWuCy0KLBT",
        "colab_type": "code",
        "colab": {}
      },
      "source": [
        "l = [1, 2, \"Hi\", [2,3,4], 0.44]\n",
        "print(l[1])\n",
        "print(l[2])\n",
        "print(l[3])\n",
        "print(l[3][2]) # l[3] is a list itself. So, l[3][2] is the3rd element if the list"
      ],
      "execution_count": null,
      "outputs": []
    },
    {
      "cell_type": "markdown",
      "metadata": {
        "id": "WRugttUuRWF7",
        "colab_type": "text"
      },
      "source": [
        "If you try to access an index that is not present, you get an IndexError"
      ]
    },
    {
      "cell_type": "code",
      "metadata": {
        "id": "QEk1EFL2KbJM",
        "colab_type": "code",
        "colab": {}
      },
      "source": [
        "l = [1,2]\n",
        "print(l[8])"
      ],
      "execution_count": null,
      "outputs": []
    },
    {
      "cell_type": "markdown",
      "metadata": {
        "id": "roIhrNvfZXCP",
        "colab_type": "text"
      },
      "source": [
        "Strings can be used as a list of characters too! However there's one minor (but important) difference we'll see."
      ]
    },
    {
      "cell_type": "code",
      "metadata": {
        "id": "GsqZHPfVKfjd",
        "colab_type": "code",
        "colab": {}
      },
      "source": [
        "st = \"Hello, World!\"\n",
        "print(st[7])"
      ],
      "execution_count": null,
      "outputs": []
    },
    {
      "cell_type": "markdown",
      "metadata": {
        "id": "_G5voiRtZiqS",
        "colab_type": "text"
      },
      "source": [
        "You can use negative numbers as indices. A negative number means the counting statrts from the end. So, -1 means the last element, -2 means the second last element and so on."
      ]
    },
    {
      "cell_type": "code",
      "metadata": {
        "id": "GcbdTenFMh5H",
        "colab_type": "code",
        "colab": {}
      },
      "source": [
        "a = [1,2,3,4]\n",
        "print(a[-1])\n",
        "print(a[-3])"
      ],
      "execution_count": null,
      "outputs": []
    },
    {
      "cell_type": "markdown",
      "metadata": {
        "id": "k_f4ZhU8Zve2",
        "colab_type": "text"
      },
      "source": [
        "We can change the value at a certain index by just assigning to it."
      ]
    },
    {
      "cell_type": "code",
      "metadata": {
        "id": "Y9dji-5HKjC5",
        "colab_type": "code",
        "colab": {}
      },
      "source": [
        "a = [1,2,3]\n",
        "a[1] =9\n",
        "print(a)"
      ],
      "execution_count": null,
      "outputs": []
    },
    {
      "cell_type": "markdown",
      "metadata": {
        "id": "V4y8WdxGZ3UB",
        "colab_type": "text"
      },
      "source": [
        "Just like strings, list can be added with a list and multiplied with an integer."
      ]
    },
    {
      "cell_type": "code",
      "metadata": {
        "id": "NKIWAaRAKpBS",
        "colab_type": "code",
        "colab": {}
      },
      "source": [
        "a = [1,2,3]\n",
        "b = [4,5,6]\n",
        "c = a + b\n",
        "d = a * 3\n",
        "print(c)\n",
        "print(d)\n"
      ],
      "execution_count": null,
      "outputs": []
    },
    {
      "cell_type": "markdown",
      "metadata": {
        "id": "TUOm0s4xaBvU",
        "colab_type": "text"
      },
      "source": [
        "To find if an element is in the list or not, we use the **in** keyword."
      ]
    },
    {
      "cell_type": "code",
      "metadata": {
        "id": "fe2yQLSeKykY",
        "colab_type": "code",
        "colab": {}
      },
      "source": [
        "a = [\"Hi\", \"Hello\", \"Hi\"]\n",
        "print(\"Hi\" in a)\n",
        "print(\"Hola\" in a)"
      ],
      "execution_count": null,
      "outputs": []
    },
    {
      "cell_type": "markdown",
      "metadata": {
        "id": "HRGN7dAjaKX4",
        "colab_type": "text"
      },
      "source": [
        "To find if an element is not in the list, the logical not can be used in these two ways. The second one is used more since it reads like English."
      ]
    },
    {
      "cell_type": "code",
      "metadata": {
        "id": "Kjclpg36K8F2",
        "colab_type": "code",
        "colab": {}
      },
      "source": [
        "a = [1,2,3]\n",
        "print(not 4 in a)\n",
        "print(4 not in a)"
      ],
      "execution_count": null,
      "outputs": []
    },
    {
      "cell_type": "markdown",
      "metadata": {
        "id": "6XRurKTNbgpY",
        "colab_type": "text"
      },
      "source": [
        "# List operations"
      ]
    },
    {
      "cell_type": "markdown",
      "metadata": {
        "id": "-7jHW0jRaWTo",
        "colab_type": "text"
      },
      "source": [
        "To add an element at the end of the list, we used the append method. The syntax is:\n",
        "\n",
        "\n",
        "```\n",
        "list_name.append(value)\n",
        "```\n",
        "Note that we have to use dot(.) operator to call the method since it's a object method.\n"
      ]
    },
    {
      "cell_type": "code",
      "metadata": {
        "id": "WFilPn8zLFIl",
        "colab_type": "code",
        "colab": {}
      },
      "source": [
        "#a = [1,2,3]\n",
        "a.append(\"HI\")\n",
        "print(a)"
      ],
      "execution_count": null,
      "outputs": []
    },
    {
      "cell_type": "markdown",
      "metadata": {
        "id": "9LsncA_Xauix",
        "colab_type": "text"
      },
      "source": [
        "To get the length of a list, use the len() method. Note that this is a normal method, so wedon't need to use dot operator."
      ]
    },
    {
      "cell_type": "code",
      "metadata": {
        "id": "vZPHy5qWLJ8y",
        "colab_type": "code",
        "colab": {}
      },
      "source": [
        "print(len(a))"
      ],
      "execution_count": null,
      "outputs": []
    },
    {
      "cell_type": "markdown",
      "metadata": {
        "id": "LVZXC7T5a3av",
        "colab_type": "text"
      },
      "source": [
        "Unlike append, the insert() method lets us insert an element at any position. The format is:\n",
        "\n",
        "\n",
        "```\n",
        "list_name.insert(index, value)\n",
        "```\n",
        "It inserts **value** in position **index**.\n"
      ]
    },
    {
      "cell_type": "code",
      "metadata": {
        "id": "NnGQOR16LMnA",
        "colab_type": "code",
        "colab": {}
      },
      "source": [
        "a.insert(2, \"foo\")\n",
        "print(a)"
      ],
      "execution_count": null,
      "outputs": []
    },
    {
      "cell_type": "markdown",
      "metadata": {
        "id": "RJTqvk52bLR-",
        "colab_type": "text"
      },
      "source": [
        "The index() method is used to find the first occurence of an element in a list. The syntax is:\n",
        "\n",
        "\n",
        "```\n",
        "list_name.index(value)\n",
        "```\n",
        "It returns the index where **value** occurs for the first time, and throws an error if **value** is not in the list.\n"
      ]
    },
    {
      "cell_type": "code",
      "metadata": {
        "id": "6H2v8bIBLYuT",
        "colab_type": "code",
        "colab": {}
      },
      "source": [
        "a = [1,2,3,4,5, 1,2,3]\n",
        "print(a.index(1))\n",
        "print(a.index(10))"
      ],
      "execution_count": null,
      "outputs": []
    },
    {
      "cell_type": "markdown",
      "metadata": {
        "id": "ca6HjLQ0bfgE",
        "colab_type": "text"
      },
      "source": [
        "The other important methods are:\n",
        "\n",
        "1. max() returns the max element of a list. No need to use dot\n",
        "2. min() you can guess\n",
        "3. count() method counts the number of occurence of a value in a list. Use dot\n",
        "4. remove() removes first occurence of an element from the list. Use dot"
      ]
    },
    {
      "cell_type": "code",
      "metadata": {
        "id": "MAia5pvqLj3l",
        "colab_type": "code",
        "colab": {}
      },
      "source": [
        "print(max(a))\n",
        "print(min(a))\n",
        "print(a.count(1))\n",
        "print(a)\n",
        "a.remove(2)\n",
        "print(a)"
      ],
      "execution_count": null,
      "outputs": []
    },
    {
      "cell_type": "markdown",
      "metadata": {
        "id": "Ssz26_9cb2xC",
        "colab_type": "text"
      },
      "source": [
        "To reverse a list, we can use two methods. One is the reversed() method. It takes a list and returns a new iterator after reversing the list.\n",
        "\n",
        "Another is the reverse() method provided by the list object. It reverses the original list in place, means it modifies the original list."
      ]
    },
    {
      "cell_type": "code",
      "metadata": {
        "id": "ssM5p3gNLvWx",
        "colab_type": "code",
        "colab": {}
      },
      "source": [
        "print(list(reversed(a)))\n",
        "print(a)\n",
        "a.reverse()\n",
        "print(a)"
      ],
      "execution_count": null,
      "outputs": []
    },
    {
      "cell_type": "markdown",
      "metadata": {
        "id": "AR3o5PZ9bmpg",
        "colab_type": "text"
      },
      "source": [
        "# List slicing"
      ]
    },
    {
      "cell_type": "markdown",
      "metadata": {
        "id": "Rh8DoqF9WRdh",
        "colab_type": "text"
      },
      "source": [
        "Slicing is used to extract a part of a list. The general syntax for slice is:\n",
        "\n",
        "\n",
        "```\n",
        "list_name[start: stop]\n",
        "```\n",
        "Where **start** and **stop** are index numbers. This returns all elements starting from position **start** and upto position **stop-1**\n",
        "So, a[2:5] returns all elements of a starting from 2 upto 4.\n"
      ]
    },
    {
      "cell_type": "code",
      "metadata": {
        "id": "SZZTHovhL0KZ",
        "colab_type": "code",
        "colab": {}
      },
      "source": [
        "a = [1,2,3,4,5,6]\n",
        "print(a[1:5])\n",
        "print(a[2:4])"
      ],
      "execution_count": null,
      "outputs": []
    },
    {
      "cell_type": "markdown",
      "metadata": {
        "id": "u5RxLuFgWqKv",
        "colab_type": "text"
      },
      "source": [
        "If **start** is omitted it's taken to be the first element. If **stop** is omitted it's taken to be upto the end of list."
      ]
    },
    {
      "cell_type": "code",
      "metadata": {
        "id": "W1MpX4YXMFpb",
        "colab_type": "code",
        "colab": {}
      },
      "source": [
        "print(a[2:])\n",
        "print(a[:4])"
      ],
      "execution_count": null,
      "outputs": []
    },
    {
      "cell_type": "markdown",
      "metadata": {
        "id": "G45Yybp4W0x5",
        "colab_type": "text"
      },
      "source": [
        "Slice can include an optional **step**. If provided, that is used to select elements in steps. For example, a step of 2 includes every second element. A step of 4 includes every 4th element and so on."
      ]
    },
    {
      "cell_type": "code",
      "metadata": {
        "id": "uBvTL67WMLd4",
        "colab_type": "code",
        "colab": {}
      },
      "source": [
        "print(a[1:5:2])\n",
        "print(a[::3])"
      ],
      "execution_count": null,
      "outputs": []
    },
    {
      "cell_type": "markdown",
      "metadata": {
        "id": "DAKsKVb3XVZW",
        "colab_type": "text"
      },
      "source": [
        "Slices can have negative index. If an index is negative, counting starts from the end."
      ]
    },
    {
      "cell_type": "code",
      "metadata": {
        "id": "pxKUvU28Mamt",
        "colab_type": "code",
        "colab": {}
      },
      "source": [
        "print(a[1:-1])"
      ],
      "execution_count": null,
      "outputs": []
    },
    {
      "cell_type": "markdown",
      "metadata": {
        "id": "tSEJ9Aw3XbGS",
        "colab_type": "text"
      },
      "source": [
        "Steps can be negative too. If the step is negative, the slicing happens in reverse."
      ]
    },
    {
      "cell_type": "code",
      "metadata": {
        "id": "IbKRXfj5aqcJ",
        "colab_type": "code",
        "colab": {}
      },
      "source": [
        "print(a[1:5:-1]) # start from 1 and go to 6 in reverse. Not possible!! Nothing found\n",
        "print(a[5:1:-1]) # start from 5 and go to 2 in reverse. Now it's alright!"
      ],
      "execution_count": null,
      "outputs": []
    },
    {
      "cell_type": "markdown",
      "metadata": {
        "id": "Fcqn33poXnhL",
        "colab_type": "text"
      },
      "source": [
        "The following is an idiomatic way to reverse a list."
      ]
    },
    {
      "cell_type": "code",
      "metadata": {
        "id": "mHoLpQygMdbH",
        "colab_type": "code",
        "colab": {}
      },
      "source": [
        "print(a[::-1])"
      ],
      "execution_count": null,
      "outputs": []
    },
    {
      "cell_type": "markdown",
      "metadata": {
        "id": "qvdY7L6oXryN",
        "colab_type": "text"
      },
      "source": [
        "The same can be done to strings."
      ]
    },
    {
      "cell_type": "code",
      "metadata": {
        "id": "y7AMZVjPXvLM",
        "colab_type": "code",
        "colab": {}
      },
      "source": [
        "\"Hello, World!\"[::-1]"
      ],
      "execution_count": null,
      "outputs": []
    },
    {
      "cell_type": "code",
      "metadata": {
        "id": "YPNAbwyq1owk",
        "colab_type": "code",
        "colab": {}
      },
      "source": [
        "\"Hello, World!\"[::1]"
      ],
      "execution_count": null,
      "outputs": []
    },
    {
      "cell_type": "markdown",
      "metadata": {
        "id": "3zyN3yIDXyRH",
        "colab_type": "text"
      },
      "source": [
        "Now the difference between string and list: strings are immutable, means you cannot change one character of a string like you can do with list"
      ]
    },
    {
      "cell_type": "code",
      "metadata": {
        "id": "cVMZiaIHX-qD",
        "colab_type": "code",
        "colab": {}
      },
      "source": [
        "a = \"Hello\"\n",
        "a[2] = \"i\" # Error"
      ],
      "execution_count": null,
      "outputs": []
    },
    {
      "cell_type": "code",
      "metadata": {
        "id": "7uVEnJZQC2Z-",
        "colab_type": "code",
        "colab": {}
      },
      "source": [
        ""
      ],
      "execution_count": null,
      "outputs": []
    }
  ]
}