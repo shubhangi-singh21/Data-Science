{
  "nbformat": 4,
  "nbformat_minor": 0,
  "metadata": {
    "colab": {
      "name": "Classification.ipynb",
      "provenance": [],
      "include_colab_link": true
    },
    "kernelspec": {
      "name": "python3",
      "display_name": "Python 3"
    }
  },
  "cells": [
    {
      "cell_type": "markdown",
      "metadata": {
        "id": "view-in-github",
        "colab_type": "text"
      },
      "source": [
        "<a href=\"https://colab.research.google.com/github/shubhangi-singh21/Data-Science/blob/master/Classification.ipynb\" target=\"_parent\"><img src=\"https://colab.research.google.com/assets/colab-badge.svg\" alt=\"Open In Colab\"/></a>"
      ]
    },
    {
      "cell_type": "markdown",
      "metadata": {
        "id": "juuFetuHMGtY",
        "colab_type": "text"
      },
      "source": [
        "# Uploading dataset"
      ]
    },
    {
      "cell_type": "code",
      "metadata": {
        "id": "7Wzcoy8YHEnG",
        "colab_type": "code",
        "colab": {}
      },
      "source": [
        "from google.colab import files\n",
        "uploaded = files.upload()"
      ],
      "execution_count": null,
      "outputs": []
    },
    {
      "cell_type": "code",
      "metadata": {
        "id": "576CPcSQ7Cjn",
        "colab_type": "code",
        "colab": {}
      },
      "source": [
        "# importing libraries\n",
        "import io\n",
        "import pandas as pd\n",
        "\n",
        "import seaborn as sns\n",
        "from sklearn.preprocessing import StandardScaler\n",
        "from sklearn.model_selection import train_test_split\n",
        "from sklearn.linear_model import LogisticRegression\n",
        "from sklearn.metrics import mean_squared_error"
      ],
      "execution_count": null,
      "outputs": []
    },
    {
      "cell_type": "markdown",
      "metadata": {
        "id": "TZo5F-IrVQ0E",
        "colab_type": "text"
      },
      "source": [
        "Scikit-learn is a free software machine learning library for the Python programming language.\n"
      ]
    },
    {
      "cell_type": "code",
      "metadata": {
        "id": "uEPsnP7U8SnB",
        "colab_type": "code",
        "colab": {}
      },
      "source": [
        "# reading the dataset\n",
        "\n",
        "df = pd.read_csv(io.BytesIO(uploaded['data_banknote_authentication.csv']))"
      ],
      "execution_count": null,
      "outputs": []
    },
    {
      "cell_type": "code",
      "metadata": {
        "id": "C_4k3dmA8a9r",
        "colab_type": "code",
        "colab": {}
      },
      "source": [
        "df.head()"
      ],
      "execution_count": null,
      "outputs": []
    },
    {
      "cell_type": "markdown",
      "metadata": {
        "id": "cWFLDZj8MPMS",
        "colab_type": "text"
      },
      "source": [
        "We observe that the column names are not present here. So we load the dataset again, including the column names this time."
      ]
    },
    {
      "cell_type": "code",
      "metadata": {
        "id": "p-Baw7KH86-N",
        "colab_type": "code",
        "colab": {}
      },
      "source": [
        "cols = [\"Variance\", \"Skewness\", \"Kurtosis\", \"Entropy\", \"Class\"]"
      ],
      "execution_count": null,
      "outputs": []
    },
    {
      "cell_type": "code",
      "metadata": {
        "id": "RTAi_pdD8ciN",
        "colab_type": "code",
        "colab": {}
      },
      "source": [
        "df = pd.read_csv(io.BytesIO(uploaded['data_banknote_authentication.csv']), names=cols)"
      ],
      "execution_count": null,
      "outputs": []
    },
    {
      "cell_type": "code",
      "metadata": {
        "id": "ZCdEm8UB9REn",
        "colab_type": "code",
        "colab": {}
      },
      "source": [
        "df.head()"
      ],
      "execution_count": null,
      "outputs": []
    },
    {
      "cell_type": "markdown",
      "metadata": {
        "id": "1mwx8vy5V_g0",
        "colab_type": "text"
      },
      "source": [
        "# Exploratory Data Analysis"
      ]
    },
    {
      "cell_type": "code",
      "metadata": {
        "id": "zEVg2mwk9Sb_",
        "colab_type": "code",
        "colab": {}
      },
      "source": [
        "df.shape"
      ],
      "execution_count": null,
      "outputs": []
    },
    {
      "cell_type": "markdown",
      "metadata": {
        "id": "T0RV7tzSWJkQ",
        "colab_type": "text"
      },
      "source": [
        "There are 1372 rows and 5 feature columns."
      ]
    },
    {
      "cell_type": "code",
      "metadata": {
        "id": "bHfFFKDY9Ul3",
        "colab_type": "code",
        "colab": {}
      },
      "source": [
        "df.info()"
      ],
      "execution_count": null,
      "outputs": []
    },
    {
      "cell_type": "markdown",
      "metadata": {
        "id": "KciriDGlWPO6",
        "colab_type": "text"
      },
      "source": [
        "Observation : "
      ]
    },
    {
      "cell_type": "code",
      "metadata": {
        "id": "utBZvRFa9YyY",
        "colab_type": "code",
        "colab": {}
      },
      "source": [
        "df.describe()"
      ],
      "execution_count": null,
      "outputs": []
    },
    {
      "cell_type": "markdown",
      "metadata": {
        "id": "DaEfDPsVWcmz",
        "colab_type": "text"
      },
      "source": [
        "Observation : "
      ]
    },
    {
      "cell_type": "code",
      "metadata": {
        "id": "BcP88bSA9hhC",
        "colab_type": "code",
        "colab": {}
      },
      "source": [
        "sns.pairplot(df)"
      ],
      "execution_count": null,
      "outputs": []
    },
    {
      "cell_type": "markdown",
      "metadata": {
        "id": "zLSBxim7WgSB",
        "colab_type": "text"
      },
      "source": [
        "Observation :"
      ]
    },
    {
      "cell_type": "code",
      "metadata": {
        "id": "ossTYHnx9s8t",
        "colab_type": "code",
        "colab": {}
      },
      "source": [
        "sns.heatmap(df.corr())"
      ],
      "execution_count": null,
      "outputs": []
    },
    {
      "cell_type": "markdown",
      "metadata": {
        "id": "ufd2eR0AWjsV",
        "colab_type": "text"
      },
      "source": [
        "Observation : "
      ]
    },
    {
      "cell_type": "markdown",
      "metadata": {
        "id": "qoayj6ucWo8h",
        "colab_type": "text"
      },
      "source": [
        "# Scaling"
      ]
    },
    {
      "cell_type": "code",
      "metadata": {
        "id": "33mSvcxn-6zn",
        "colab_type": "code",
        "colab": {}
      },
      "source": [
        "X = df[[\"Entropy\", \"Skewness\", \"Variance\", \"Kurtosis\"]].copy()         # Features\n",
        "y = df[\"Class\"].copy()                                                 # Target"
      ],
      "execution_count": null,
      "outputs": []
    },
    {
      "cell_type": "code",
      "metadata": {
        "id": "uxTFxDyrBIUZ",
        "colab_type": "code",
        "colab": {}
      },
      "source": [
        "X.head()"
      ],
      "execution_count": null,
      "outputs": []
    },
    {
      "cell_type": "code",
      "metadata": {
        "id": "gPfXE9QlBPLx",
        "colab_type": "code",
        "colab": {}
      },
      "source": [
        "y.head()"
      ],
      "execution_count": null,
      "outputs": []
    },
    {
      "cell_type": "markdown",
      "metadata": {
        "id": "A-PRGKdJXMMj",
        "colab_type": "text"
      },
      "source": [
        "Standardize features by removing the mean and scaling to unit variance. \n",
        "\n",
        "The standard score of a sample x is calculated as:\n",
        "\n",
        "    z = (x - u) / s\n",
        "\n",
        "where u is the mean of the training samples and s is the standard deviation of the training samples. "
      ]
    },
    {
      "cell_type": "code",
      "metadata": {
        "id": "iGrRKLB4BREP",
        "colab_type": "code",
        "colab": {}
      },
      "source": [
        "scaler = StandardScaler()\n",
        "\n",
        "X = scaler.fit_transform(X)"
      ],
      "execution_count": null,
      "outputs": []
    },
    {
      "cell_type": "code",
      "metadata": {
        "id": "2bpCiXe0BdmQ",
        "colab_type": "code",
        "colab": {}
      },
      "source": [
        "X"
      ],
      "execution_count": null,
      "outputs": []
    },
    {
      "cell_type": "markdown",
      "metadata": {
        "id": "9z84WPm4Xhm0",
        "colab_type": "text"
      },
      "source": [
        "# Train-test split\n",
        "\n",
        "Split the dataframe into random train and test subsets."
      ]
    },
    {
      "cell_type": "code",
      "metadata": {
        "id": "f9A8vv6_B0sY",
        "colab_type": "code",
        "colab": {}
      },
      "source": [
        "X_train, X_test, y_train, y_test = train_test_split(X, y, test_size=0.33, random_state=42)"
      ],
      "execution_count": null,
      "outputs": []
    },
    {
      "cell_type": "code",
      "metadata": {
        "id": "4ozXJRZmCakA",
        "colab_type": "code",
        "colab": {}
      },
      "source": [
        "print(len(X_train))\n",
        "print(len(X_test))"
      ],
      "execution_count": null,
      "outputs": []
    },
    {
      "cell_type": "code",
      "metadata": {
        "id": "qxKU7fhgCcMC",
        "colab_type": "code",
        "colab": {}
      },
      "source": [
        "y_train.value_counts()"
      ],
      "execution_count": null,
      "outputs": []
    },
    {
      "cell_type": "code",
      "metadata": {
        "id": "o1k3i4z5CmxS",
        "colab_type": "code",
        "colab": {}
      },
      "source": [
        "y_test.value_counts()"
      ],
      "execution_count": null,
      "outputs": []
    },
    {
      "cell_type": "markdown",
      "metadata": {
        "id": "3LdYOHCqXvy_",
        "colab_type": "text"
      },
      "source": [
        "Although the count of class \"0\" is slightly more than that of class \"1\", we can approximately consider this to be a case of balanced classification."
      ]
    },
    {
      "cell_type": "markdown",
      "metadata": {
        "id": "HPOMxFaWYIIk",
        "colab_type": "text"
      },
      "source": [
        "# Logistic Regression\n",
        "\n",
        "In linear regression, we had -\n",
        "\n",
        "$ y = a + b*X $ , \n",
        "\n",
        "where a and b were unknown parameters.\n",
        "\n"
      ]
    },
    {
      "cell_type": "markdown",
      "metadata": {
        "id": "IqvMqnEqZF0R",
        "colab_type": "text"
      },
      "source": [
        "The logistic function, also called the sigmoid function, is an S-shaped curve that can take any real-valued number and map it into a value between 0 and 1, but never exactly at those limits.\n",
        "\n",
        "Now, the logistic function is given by - \n",
        "\n",
        "$ f(x) = \\frac{exp(x)}{1+exp(x)}$\n",
        "\n",
        "![Logistics Function](https://miro.medium.com/max/386/1*P4RYaqxDUEZF16dKf0vyNg.png)\n",
        "\n",
        "If we pass the y value found out using linear regression to the logistic function, we get - \n",
        "\n",
        "$ p = f(y) = \\frac{exp(a + b*X)}{1+exp(a + b*X)}$\n",
        "\n",
        "Here, p is a value between 0 and 1. This value is the probability of the first class. \n",
        "\n",
        "If p > 0.5 => 1st class\n",
        "If p < 0.5 => 2nd class\n",
        "\n",
        "Read more [here](https://machinelearningmastery.com/logistic-regression-for-machine-learning/)."
      ]
    },
    {
      "cell_type": "code",
      "metadata": {
        "id": "L8pATRCkCsHq",
        "colab_type": "code",
        "colab": {}
      },
      "source": [
        "clf = LogisticRegression(random_state=0).fit(X_train, y_train)"
      ],
      "execution_count": null,
      "outputs": []
    },
    {
      "cell_type": "markdown",
      "metadata": {
        "id": "CwYMApgLcoko",
        "colab_type": "text"
      },
      "source": [
        "coef_ returns the coefficient of the features."
      ]
    },
    {
      "cell_type": "code",
      "metadata": {
        "id": "k3alY1A0C9_f",
        "colab_type": "code",
        "colab": {}
      },
      "source": [
        "clf.coef_"
      ],
      "execution_count": null,
      "outputs": []
    },
    {
      "cell_type": "code",
      "metadata": {
        "id": "4-WXaLkfDJDD",
        "colab_type": "code",
        "colab": {}
      },
      "source": [
        "# Accuracy score \n",
        "\n",
        "clf.score(X_test, y_test)"
      ],
      "execution_count": null,
      "outputs": []
    },
    {
      "cell_type": "code",
      "metadata": {
        "id": "C80QKhyEDmu2",
        "colab_type": "code",
        "colab": {}
      },
      "source": [
        "# Mean Squared Error\n",
        "\n",
        "mean_squared_error(y_test, clf.predict(X_test))"
      ],
      "execution_count": null,
      "outputs": []
    },
    {
      "cell_type": "code",
      "metadata": {
        "id": "E-bPPDl_EPnZ",
        "colab_type": "code",
        "colab": {}
      },
      "source": [
        "# prediction \n",
        "\n",
        "clf.predict(X_test)"
      ],
      "execution_count": null,
      "outputs": []
    },
    {
      "cell_type": "markdown",
      "metadata": {
        "id": "uEO9nhdcdG8y",
        "colab_type": "text"
      },
      "source": [
        "# Exploration "
      ]
    },
    {
      "cell_type": "code",
      "metadata": {
        "id": "d2JRpjNaNk5o",
        "colab_type": "code",
        "colab": {}
      },
      "source": [
        "X_ = df[\"Variance\"].copy()"
      ],
      "execution_count": null,
      "outputs": []
    },
    {
      "cell_type": "code",
      "metadata": {
        "id": "OU88PyOnPUlw",
        "colab_type": "code",
        "colab": {}
      },
      "source": [
        "import numpy as np\n",
        "\n",
        "lin_eq = np.poly1d([-4.536, 0])"
      ],
      "execution_count": null,
      "outputs": []
    },
    {
      "cell_type": "code",
      "metadata": {
        "id": "e-pAGWwUQYr_",
        "colab_type": "code",
        "colab": {}
      },
      "source": [
        "lin_eq"
      ],
      "execution_count": null,
      "outputs": []
    },
    {
      "cell_type": "code",
      "metadata": {
        "id": "bpEY1yJHP2rZ",
        "colab_type": "code",
        "colab": {}
      },
      "source": [
        "val = list(lin_eq(X_))"
      ],
      "execution_count": null,
      "outputs": []
    },
    {
      "cell_type": "code",
      "metadata": {
        "id": "yt2hwgJcQH2Z",
        "colab_type": "code",
        "colab": {}
      },
      "source": [
        "val"
      ],
      "execution_count": null,
      "outputs": []
    },
    {
      "cell_type": "code",
      "metadata": {
        "id": "4GTwlJWcPwlo",
        "colab_type": "code",
        "colab": {}
      },
      "source": [
        "from math import exp"
      ],
      "execution_count": null,
      "outputs": []
    },
    {
      "cell_type": "code",
      "metadata": {
        "id": "RS9L3babPfYn",
        "colab_type": "code",
        "colab": {}
      },
      "source": [
        "y = [exp(i) for i in val]"
      ],
      "execution_count": null,
      "outputs": []
    },
    {
      "cell_type": "code",
      "metadata": {
        "id": "qeXiRiFKQs2o",
        "colab_type": "code",
        "colab": {}
      },
      "source": [
        "prob = []\n",
        "\n",
        "for i in range(len(y)):\n",
        "  tmp = y[i]/(1+y[i])\n",
        "  prob.append(tmp)"
      ],
      "execution_count": null,
      "outputs": []
    },
    {
      "cell_type": "code",
      "metadata": {
        "id": "CkgfzhSDRTM_",
        "colab_type": "code",
        "colab": {}
      },
      "source": [
        "len(prob)"
      ],
      "execution_count": null,
      "outputs": []
    },
    {
      "cell_type": "code",
      "metadata": {
        "id": "7mGiTpy6Q7Dh",
        "colab_type": "code",
        "colab": {}
      },
      "source": [
        "import matplotlib.pyplot as plt"
      ],
      "execution_count": null,
      "outputs": []
    },
    {
      "cell_type": "code",
      "metadata": {
        "id": "aEU3cD1EN3RJ",
        "colab_type": "code",
        "colab": {}
      },
      "source": [
        "plt.scatter(X_, prob)"
      ],
      "execution_count": null,
      "outputs": []
    },
    {
      "cell_type": "code",
      "metadata": {
        "id": "3lJyvNgOO44g",
        "colab_type": "code",
        "colab": {}
      },
      "source": [
        ""
      ],
      "execution_count": null,
      "outputs": []
    }
  ]
}