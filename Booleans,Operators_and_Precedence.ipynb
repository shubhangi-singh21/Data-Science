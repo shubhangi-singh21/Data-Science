{
  "nbformat": 4,
  "nbformat_minor": 0,
  "metadata": {
    "colab": {
      "name": "python_basics2.ipynb",
      "provenance": [],
      "private_outputs": true,
      "collapsed_sections": [],
      "include_colab_link": true
    },
    "kernelspec": {
      "name": "python3",
      "display_name": "Python 3"
    }
  },
  "cells": [
    {
      "cell_type": "markdown",
      "metadata": {
        "id": "view-in-github",
        "colab_type": "text"
      },
      "source": [
        "<a href=\"https://colab.research.google.com/github/shubhangi-singh21/Data-Science/blob/master/Booleans%2COperators_and_Precedence.ipynb\" target=\"_parent\"><img src=\"https://colab.research.google.com/assets/colab-badge.svg\" alt=\"Open In Colab\"/></a>"
      ]
    },
    {
      "cell_type": "markdown",
      "metadata": {
        "id": "2L-FVWyKBGR-",
        "colab_type": "text"
      },
      "source": [
        "# Booleans"
      ]
    },
    {
      "cell_type": "markdown",
      "metadata": {
        "id": "N42jCGbAxnqH",
        "colab_type": "text"
      },
      "source": [
        "Apart from int, float and string, Python has another builtin datatype called boolean (bool). These can hold only two values **True** or **False**. Note that unlike other languages, **True** and **False** are capitalized.\n",
        "\n",
        "Like int, or str, bool can also be stored in a variable."
      ]
    },
    {
      "cell_type": "code",
      "metadata": {
        "id": "daY51vGnkDio",
        "colab_type": "code",
        "colab": {}
      },
      "source": [
        "b = True\n",
        "b"
      ],
      "execution_count": null,
      "outputs": []
    },
    {
      "cell_type": "markdown",
      "metadata": {
        "id": "4LcwxnfZydIy",
        "colab_type": "text"
      },
      "source": [
        "In order to cast another datatype into a boolean, we have to use **bool()**\n",
        "\n",
        "There are rules to tell which variable converts into which bool. Values that convert to **True** are called **Truthy** and values which convert to **False** are called **Falsey**\n",
        "\n",
        "For now, remember that **0 is Falsey** and **any non zero number is Truthy**. And **empty string is Falsey** and **any non empty string is Truthy**"
      ]
    },
    {
      "cell_type": "code",
      "metadata": {
        "id": "w7mMvBFayFAc",
        "colab_type": "code",
        "colab": {}
      },
      "source": [
        "print(bool(0))\n",
        "print(bool(1))\n",
        "print(bool(-322))\n",
        "print(bool(\"Hello\"))\n",
        "print(bool(\"\"))"
      ],
      "execution_count": null,
      "outputs": []
    },
    {
      "cell_type": "markdown",
      "metadata": {
        "id": "d0tw-QASBKHg",
        "colab_type": "text"
      },
      "source": [
        "# Relational operators"
      ]
    },
    {
      "cell_type": "markdown",
      "metadata": {
        "id": "iicYbMcH2lf2",
        "colab_type": "text"
      },
      "source": [
        "Comparison expressions are used to compare two values. The main operations are\n",
        "\n",
        "\n",
        "1.   Equality (==)\n",
        "2.   Non equality (!=)\n",
        "3.   Less than (<)\n",
        "4.   Greater than (>)\n",
        "5.   Less than equals (<=)\n",
        "6.   Greater than equals (>=)\n",
        "\n",
        "These operators are known as \"Relational operators.\" The result of these operators are always booleans\n",
        "\n"
      ]
    },
    {
      "cell_type": "markdown",
      "metadata": {
        "id": "U5LIPg1a3Iaw",
        "colab_type": "text"
      },
      "source": [
        "The equality operator outputs **True** if two operands are equal and **False** otherwise.\n",
        "\n",
        "**N. B.** Don't confuse between assignment operator (=) and equality operator (==)"
      ]
    },
    {
      "cell_type": "code",
      "metadata": {
        "id": "CpPMMCP9kKGY",
        "colab_type": "code",
        "colab": {}
      },
      "source": [
        "1 == 0\n",
        "\"Hi\" == 'hi'"
      ],
      "execution_count": null,
      "outputs": []
    },
    {
      "cell_type": "markdown",
      "metadata": {
        "id": "1Xj4GPJe3jlF",
        "colab_type": "text"
      },
      "source": [
        "The non-equality operator outputs **True** if two operands are not equal and **False** otherwise."
      ]
    },
    {
      "cell_type": "code",
      "metadata": {
        "id": "5mNl57i3kOtH",
        "colab_type": "code",
        "colab": {}
      },
      "source": [
        "1 != 0"
      ],
      "execution_count": null,
      "outputs": []
    },
    {
      "cell_type": "markdown",
      "metadata": {
        "id": "3P7vj5_m3tHB",
        "colab_type": "text"
      },
      "source": [
        "The other relational operators have the usual meaning."
      ]
    },
    {
      "cell_type": "code",
      "metadata": {
        "id": "8JPyMaxmkSlH",
        "colab_type": "code",
        "colab": {}
      },
      "source": [
        "1 < 0\n",
        "20 > 30\n",
        "5 <= 8\n",
        "3 >= 3"
      ],
      "execution_count": null,
      "outputs": []
    },
    {
      "cell_type": "markdown",
      "metadata": {
        "id": "rhz57cr13xju",
        "colab_type": "text"
      },
      "source": [
        "The less than and greater than operators can also be applied to strings. In that case, they compare the two strings alphabetically (lexicographically)"
      ]
    },
    {
      "cell_type": "code",
      "metadata": {
        "id": "2voHtvEokZBF",
        "colab_type": "code",
        "colab": {}
      },
      "source": [
        "\"Hi\" > \"Hello\""
      ],
      "execution_count": null,
      "outputs": []
    },
    {
      "cell_type": "markdown",
      "metadata": {
        "id": "5H6UA8zqBS_g",
        "colab_type": "text"
      },
      "source": [
        "# If statements"
      ]
    },
    {
      "cell_type": "markdown",
      "metadata": {
        "id": "2cTIQlAL4LOd",
        "colab_type": "text"
      },
      "source": [
        "**if** statement is a conditional statement. It is used to create a branch in program. Using if statement we can execute certain parts of the program only if some certain condition is true.\n",
        "\n",
        "The general for of if statement is\n",
        "\n",
        "\n",
        "```\n",
        "if condition:\n",
        "  statements\n",
        "```\n",
        "Here the statements will be run **if the condition is True**\n",
        "\n",
        "Notice a few things:\n",
        "\n",
        "\n",
        "1.   Unlike other languages, you don't need a parentheses around the condition\n",
        "2.   **The condition can be any expression which either gives a boolean result, or can be converted to a boolean**\n",
        "3.   Notice the colon after the condition\n",
        "3.   **Notice the indentation.** This is important in Python. Whereas C or C++ use curly braces to denote a block, Python uss indentation. This means that all the lines which are on the same level of indentation are part of the same block. So all the statements that are part of the if statement **must be on the same level of indentation** and should be **indented one level forward**. If you mismatch the indentation, either you'll get an IndentationError, or your statements will not be executed in the expected order\n",
        "\n",
        "\n"
      ]
    },
    {
      "cell_type": "code",
      "metadata": {
        "id": "jXUIV0P5kcXB",
        "colab_type": "code",
        "colab": {}
      },
      "source": [
        "if 2 > 1:\n",
        "  print(\"This statement is inside if\") # This will be run if the condition is True. Note the indentation\n",
        "print(\"This statement is outside if\") # It is on the same indentation level as the \"if\" so it's outside the if"
      ],
      "execution_count": null,
      "outputs": []
    },
    {
      "cell_type": "code",
      "metadata": {
        "id": "BbplWT2x54BH",
        "colab_type": "code",
        "colab": {}
      },
      "source": [
        "if 2 > 1:\n",
        "  \n",
        "   print(\"Oops! If expects an indented statement, but I'm not indented\")"
      ],
      "execution_count": null,
      "outputs": []
    },
    {
      "cell_type": "markdown",
      "metadata": {
        "id": "op9BAIPU6CSy",
        "colab_type": "text"
      },
      "source": [
        "If statements can be nested. Meaning one if can be inside another if. Be careful of the indentation"
      ]
    },
    {
      "cell_type": "code",
      "metadata": {
        "id": "OySLUH4Hkysi",
        "colab_type": "code",
        "colab": {}
      },
      "source": [
        "if 2 > 1:\n",
        "  if 5 < 8:\n",
        "    print(\"This is inside nested if\")\n",
        "  print(\"This is inside first if\")\n",
        "print(\"This is ouside if\")"
      ],
      "execution_count": null,
      "outputs": []
    },
    {
      "cell_type": "markdown",
      "metadata": {
        "id": "SbgxkcxBBZPv",
        "colab_type": "text"
      },
      "source": [
        "## Else statement"
      ]
    },
    {
      "cell_type": "markdown",
      "metadata": {
        "id": "UkhFe90p6jF0",
        "colab_type": "text"
      },
      "source": [
        "Each if statement can have an optional else statement. The else statement is executed if the condition  for if is False.\n",
        "\n",
        "**The else must be on the same level of indentation as the if (not the statements inside it)**\n",
        "\n",
        "An **else statement must have a partner if**"
      ]
    },
    {
      "cell_type": "code",
      "metadata": {
        "id": "G6BLeOIrk_9d",
        "colab_type": "code",
        "colab": {}
      },
      "source": [
        "if 2 < 1:\n",
        "  print(\"2 is less than 1\")\n",
        "else: # This is at the same indentation level with the \"if\"\n",
        "  print(\"2 is not less than 1\")"
      ],
      "execution_count": null,
      "outputs": []
    },
    {
      "cell_type": "code",
      "metadata": {
        "id": "WTUirQIO6_QJ",
        "colab_type": "code",
        "colab": {}
      },
      "source": [
        "if 2 < 1:\n",
        "  print(\"2 is less than 1\")\n",
        "  else:\n",
        "    print(\"Wrong indentation! This else doesn't have an if, and that's an error\")"
      ],
      "execution_count": null,
      "outputs": []
    },
    {
      "cell_type": "markdown",
      "metadata": {
        "id": "frxldVJW6vSp",
        "colab_type": "text"
      },
      "source": [
        "Just like if, else can be nested too. In that way you can have an if-else ladder."
      ]
    },
    {
      "cell_type": "code",
      "metadata": {
        "id": "goYVPWDBlKw2",
        "colab_type": "code",
        "colab": {}
      },
      "source": [
        "a = 7\n",
        "if a == 5:\n",
        "  print(\"a is 5\")\n",
        "else:\n",
        "  if a == 2:\n",
        "    print(\"a is 2\")\n",
        "    else:\n",
        "      print(\"a is not 5 or 2\")"
      ],
      "execution_count": null,
      "outputs": []
    },
    {
      "cell_type": "markdown",
      "metadata": {
        "id": "3mvYZBJGBhWA",
        "colab_type": "text"
      },
      "source": [
        "## Elif statement"
      ]
    },
    {
      "cell_type": "markdown",
      "metadata": {
        "id": "2FLHHMA-7eFv",
        "colab_type": "text"
      },
      "source": [
        "Writing if statements inside an else can be tedious. Python has a keyword called \"elif\" (short of else if) for that.\n",
        "So you will have one if, zero or more than zero elif and zero or one else\n",
        "\n",
        "If the if condition is True, the if statement will run. If not,  then if the first elif condition is True, that will be run, if not, the second elif condition will be checked and so on. If none of the elif conditions are True, the else will be run."
      ]
    },
    {
      "cell_type": "code",
      "metadata": {
        "id": "XgYnxuY8lYZK",
        "colab_type": "code",
        "colab": {}
      },
      "source": [
        "a = 7\n",
        "if a == 5:\n",
        "  print(\"a is 5\")\n",
        "elif a == 2:\n",
        "  print(\"a is 2\")\n",
        "else:\n",
        "  print(\"a is not 5 or 2\")"
      ],
      "execution_count": null,
      "outputs": []
    },
    {
      "cell_type": "markdown",
      "metadata": {
        "id": "Td2hoQfPBlnk",
        "colab_type": "text"
      },
      "source": [
        "# Logical operators"
      ]
    },
    {
      "cell_type": "markdown",
      "metadata": {
        "id": "5etCyVPA8GuO",
        "colab_type": "text"
      },
      "source": [
        "Logical operators are **and, or and not** They're used to combine two booleans (or expressions that evaluate to booleans)."
      ]
    },
    {
      "cell_type": "markdown",
      "metadata": {
        "id": "Ju3sb-Lj8TKL",
        "colab_type": "text"
      },
      "source": [
        "logical and produces True if both of it's operands are True. If one or both operands are False, it produces False."
      ]
    },
    {
      "cell_type": "code",
      "metadata": {
        "id": "u-0SSNtWli15",
        "colab_type": "code",
        "colab": {}
      },
      "source": [
        "True and True\n",
        "True and False\n",
        "False and True\n",
        "False and False"
      ],
      "execution_count": null,
      "outputs": []
    },
    {
      "cell_type": "markdown",
      "metadata": {
        "id": "JrQwWRO48dmH",
        "colab_type": "text"
      },
      "source": [
        "Logical or produces True if at least one operand is True. If both are False, it produces False."
      ]
    },
    {
      "cell_type": "code",
      "metadata": {
        "id": "vxOgwUVolqY5",
        "colab_type": "code",
        "colab": {}
      },
      "source": [
        "True or True\n",
        "True or False\n",
        "False or True\n",
        "False or False"
      ],
      "execution_count": null,
      "outputs": []
    },
    {
      "cell_type": "markdown",
      "metadata": {
        "id": "g7oHtrX98lcx",
        "colab_type": "text"
      },
      "source": [
        "Logical not produces False if its (only) operand is True and True if its operand is False."
      ]
    },
    {
      "cell_type": "code",
      "metadata": {
        "id": "lDikc8KClvB5",
        "colab_type": "code",
        "colab": {}
      },
      "source": [
        "not True\n",
        "not False"
      ],
      "execution_count": null,
      "outputs": []
    },
    {
      "cell_type": "markdown",
      "metadata": {
        "id": "QS3EiHp88x2M",
        "colab_type": "text"
      },
      "source": [
        "Using logical operators we can chain multiple conditions in if statements."
      ]
    },
    {
      "cell_type": "code",
      "metadata": {
        "id": "h-YQiG9mlyYr",
        "colab_type": "code",
        "colab": {}
      },
      "source": [
        "if 1 == 1 and 2 < 6 and not 5 == 6:\n",
        "  print(\"All conditions are true\")\n",
        "else:\n",
        "  print(\"Some conditions are false\")"
      ],
      "execution_count": null,
      "outputs": []
    },
    {
      "cell_type": "markdown",
      "metadata": {
        "id": "hwjDmWSuBp8N",
        "colab_type": "text"
      },
      "source": [
        "# Precendence and associativity"
      ]
    },
    {
      "cell_type": "markdown",
      "metadata": {
        "id": "6ZjRhc1m9NDL",
        "colab_type": "text"
      },
      "source": [
        "While using more than one operators, we have to be careful about two things - \n",
        "\n",
        "First is **precedence.** This rule tells us, if two operators are placed one after another which one will be executed first. Remember the BODMAS rule? Thankfully Python uses the BODMAS rule too.\n",
        "\n",
        "Here is a list of operator precedence https://drive.google.com/file/d/1xE1L5NbT8KzcmbUm0k5FTj5GY-XsHIvF/view?usp=sharing\n",
        "\n",
        "Don't worry if you don't understand all of them. But note that division and multiplication has higher precendence than addition and subtraction. So, if I write 5 + 2 \\* 3, it will be 5 + (2 \\* 3) and not (5 + 2) \\* 3\n",
        "\n",
        "But also note that, addition and subtraction has the same precedence. So here comes the question, what happens if there are two operators of the same precedence one after another?\n",
        "\n",
        "Consider this 5 + 2 - 3\n",
        "\n",
        "Which of the operators take the \"2\"? Is it (5 + 2) - 3 or 5 + (2 - 3)?\n",
        "\n",
        "Here comes associativity. Associativity tells us the direction of evaluation. Both + and - are left-to-right associative. It means that if two of them areone after another, the evaluation will start from the leftmost one and continue to the right. So it's (5 +2) - 3\n",
        "\n",
        "Exponentiation is one operator which is right associative. So, 2 \\*\\* 3 \\*\\* 4 is 2 \\*\\* (3 \\*\\* 4) and not ( 2 \\*\\* 3 ) \\*\\* 4. Verify these results below\n",
        "\n",
        "Remember, **precedence tells us which operator runs earlier and associativity tells us the direction of evaluation among operators of same precedence**"
      ]
    },
    {
      "cell_type": "code",
      "metadata": {
        "id": "AmVd8jK2l-iy",
        "colab_type": "code",
        "colab": {}
      },
      "source": [
        "print(1 + 2 * 3)\n",
        "print(2 ** 3 - 4)\n",
        "print(5 + 2 - 3)\n",
        "print(2 ** 3 ** 4)\n",
        "print(True or False and False)"
      ],
      "execution_count": null,
      "outputs": []
    },
    {
      "cell_type": "markdown",
      "metadata": {
        "id": "oehiQbf_A7eJ",
        "colab_type": "text"
      },
      "source": [
        "We can use parenthesis to change the order of evaluation"
      ]
    },
    {
      "cell_type": "code",
      "metadata": {
        "id": "PWVQAIwLma0R",
        "colab_type": "code",
        "colab": {}
      },
      "source": [
        "print((2**3) ** 4)"
      ],
      "execution_count": null,
      "outputs": []
    }
  ]
}